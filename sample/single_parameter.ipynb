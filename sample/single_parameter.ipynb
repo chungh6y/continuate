{
 "cells": [
  {
   "cell_type": "code",
   "execution_count": 1,
   "metadata": {
    "collapsed": true
   },
   "outputs": [],
   "source": [
    "%matplotlib inline"
   ]
  },
  {
   "cell_type": "code",
   "execution_count": 2,
   "metadata": {
    "collapsed": false
   },
   "outputs": [],
   "source": [
    "import sys\n",
    "import os.path\n",
    "import numpy as np\n",
    "import pandas as pd"
   ]
  },
  {
   "cell_type": "code",
   "execution_count": 3,
   "metadata": {
    "collapsed": false
   },
   "outputs": [],
   "source": [
    "sys.path.append(os.path.abspath(\"..\"))\n",
    "import continuate.single_parameter as C"
   ]
  },
  {
   "cell_type": "code",
   "execution_count": 13,
   "metadata": {
    "collapsed": false,
    "scrolled": true
   },
   "outputs": [
    {
     "name": "stderr",
     "output_type": "stream",
     "text": [
      "DEBUG:continuate.single_parameter:0.00224008229236\n",
      "DEBUG:continuate.single_parameter:0.00271132088947\n",
      "DEBUG:continuate.single_parameter:0.00283367594716\n",
      "DEBUG:continuate.single_parameter:0.00288735326066\n",
      "DEBUG:continuate.single_parameter:0.00292801939972\n",
      "DEBUG:continuate.single_parameter:0.0029668505462\n",
      "DEBUG:continuate.single_parameter:0.00300613683939\n",
      "DEBUG:continuate.single_parameter:0.00304637962413\n",
      "DEBUG:continuate.single_parameter:0.00308771852717\n",
      "DEBUG:continuate.single_parameter:0.0031302210827\n",
      "DEBUG:continuate.single_parameter:0.00317394214748\n",
      "DEBUG:continuate.single_parameter:0.00321893632591\n",
      "DEBUG:continuate.single_parameter:0.00326526076944\n",
      "DEBUG:continuate.single_parameter:0.00331297592354\n",
      "DEBUG:continuate.single_parameter:0.00336214593538\n",
      "DEBUG:continuate.single_parameter:0.00341283895065\n",
      "DEBUG:continuate.single_parameter:0.00346512744476\n",
      "DEBUG:continuate.single_parameter:0.00351908857074\n",
      "DEBUG:continuate.single_parameter:0.00357480454325\n",
      "DEBUG:continuate.single_parameter:0.00363236305835\n",
      "DEBUG:continuate.single_parameter:0.00369185776056\n",
      "DEBUG:continuate.single_parameter:0.00375338875168\n",
      "DEBUG:continuate.single_parameter:0.00381706314755\n",
      "DEBUG:continuate.single_parameter:0.00388299572382\n",
      "DEBUG:continuate.single_parameter:0.00395130958589\n",
      "DEBUG:continuate.single_parameter:0.00402213695707\n",
      "DEBUG:continuate.single_parameter:0.00409562001788\n",
      "DEBUG:continuate.single_parameter:0.00417191186464\n",
      "DEBUG:continuate.single_parameter:0.00425117758359\n",
      "DEBUG:continuate.single_parameter:0.00433359541849\n",
      "DEBUG:continuate.single_parameter:0.00441935812754\n",
      "DEBUG:continuate.single_parameter:0.00450867446914\n",
      "DEBUG:continuate.single_parameter:0.00460177089476\n",
      "DEBUG:continuate.single_parameter:0.00469889343573\n",
      "DEBUG:continuate.single_parameter:0.00480030988382\n",
      "DEBUG:continuate.single_parameter:0.00490631220753\n",
      "DEBUG:continuate.single_parameter:0.0050172193368\n",
      "DEBUG:continuate.single_parameter:0.00513338031964\n",
      "DEBUG:continuate.single_parameter:0.00525517794958\n",
      "DEBUG:continuate.single_parameter:0.00538303287514\n",
      "DEBUG:continuate.single_parameter:0.00551740840246\n",
      "DEBUG:continuate.single_parameter:0.00565881595198\n",
      "DEBUG:continuate.single_parameter:0.00580782142524\n",
      "DEBUG:continuate.single_parameter:0.00596505256716\n",
      "DEBUG:continuate.single_parameter:0.00613120757896\n",
      "DEBUG:continuate.single_parameter:0.00630706512927\n",
      "DEBUG:continuate.single_parameter:0.00649349617189\n",
      "DEBUG:continuate.single_parameter:0.00669147782297\n",
      "DEBUG:continuate.single_parameter:0.00690210982474\n",
      "DEBUG:continuate.single_parameter:0.00712663408697\n",
      "DEBUG:continuate.single_parameter:0.00736645805272\n",
      "DEBUG:continuate.single_parameter:0.00762318273376\n",
      "DEBUG:continuate.single_parameter:0.00789863655282\n",
      "DEBUG:continuate.single_parameter:0.00819491637482\n",
      "DEBUG:continuate.single_parameter:0.00851443760267\n",
      "DEBUG:continuate.single_parameter:0.00885999565181\n",
      "DEBUG:continuate.single_parameter:0.00923484190319\n",
      "DEBUG:continuate.single_parameter:0.00964277817734\n",
      "DEBUG:continuate.single_parameter:0.0100882750587\n",
      "DEBUG:continuate.single_parameter:0.010576621261\n",
      "DEBUG:continuate.single_parameter:0.0111141136315\n",
      "DEBUG:continuate.single_parameter:0.011708300938\n",
      "DEBUG:continuate.single_parameter:0.0123682994514\n",
      "DEBUG:continuate.single_parameter:0.0131052053948\n",
      "DEBUG:continuate.single_parameter:0.0139326393817\n",
      "DEBUG:continuate.single_parameter:0.0148674728604\n",
      "DEBUG:continuate.single_parameter:0.0159308082977\n",
      "DEBUG:continuate.single_parameter:0.0171493177381\n",
      "DEBUG:continuate.single_parameter:0.0185570937718\n",
      "DEBUG:continuate.single_parameter:0.0201982433054\n",
      "DEBUG:continuate.single_parameter:0.0221305727818\n",
      "DEBUG:continuate.single_parameter:0.0244309002311\n",
      "DEBUG:continuate.single_parameter:0.027202826807\n",
      "DEBUG:continuate.single_parameter:0.0305882802544\n",
      "DEBUG:continuate.single_parameter:0.0347849255596\n",
      "DEBUG:continuate.single_parameter:0.0400728319015\n",
      "DEBUG:continuate.single_parameter:0.0468559673681\n",
      "DEBUG:continuate.single_parameter:0.0557279223321\n",
      "DEBUG:continuate.single_parameter:0.0675785863962\n",
      "DEBUG:continuate.single_parameter:0.0837749440402\n",
      "DEBUG:continuate.single_parameter:0.106495104405\n",
      "DEBUG:continuate.single_parameter:0.139452651452\n"
     ]
    }
   ],
   "source": [
    "f = lambda x, mu: np.array([x[0]**2 - mu, x[1]])\n",
    "x0 = np.array([1.0, 0.0])\n",
    "m0 = 1.0\n",
    "G = C.continuate(f, x0, m0 ,-0.01)\n",
    "\n",
    "tl = []\n",
    "for x, m in G:\n",
    "    tl.append((m, x[0], x[1]))\n",
    "    if abs(m) > 10 or m < -0.1:\n",
    "        break\n",
    "df = pd.DataFrame(tl, columns=[\"mu\", \"x0\", \"x1\"]).set_index(\"mu\")"
   ]
  },
  {
   "cell_type": "code",
   "execution_count": 14,
   "metadata": {
    "collapsed": false
   },
   "outputs": [
    {
     "data": {
      "text/plain": [
       "[<matplotlib.lines.Line2D at 0x7fd8be911ed0>]"
      ]
     },
     "execution_count": 14,
     "metadata": {},
     "output_type": "execute_result"
    },
    {
     "data": {
      "image/png": "[encoded data removed]",
      "text/plain": [
       "<matplotlib.figure.Figure at 0x7fd8be91c710>"
      ]
     },
     "metadata": {},
     "output_type": "display_data"
    }
   ],
   "source": [
    "df.plot()\n",
    "x = np.arange(-1, 1, 0.01)\n",
    "y = x ** 2\n",
    "plt.plot(y, x)"
   ]
  },
  {
   "cell_type": "code",
   "execution_count": null,
   "metadata": {
    "collapsed": true
   },
   "outputs": [],
   "source": []
  }
 ],
 "metadata": {
  "kernelspec": {
   "display_name": "Python 2",
   "language": "python",
   "name": "python2"
  },
  "language_info": {
   "codemirror_mode": {
    "name": "ipython",
    "version": 2
   },
   "file_extension": ".py",
   "mimetype": "text/x-python",
   "name": "python",
   "nbconvert_exporter": "python",
   "pygments_lexer": "ipython2",
   "version": "2.7.10"
  }
 },
 "nbformat": 4,
 "nbformat_minor": 0
}
